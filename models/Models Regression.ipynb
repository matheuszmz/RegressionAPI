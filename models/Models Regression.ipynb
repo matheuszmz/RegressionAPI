{
 "cells": [
  {
   "cell_type": "code",
   "execution_count": 1,
   "metadata": {},
   "outputs": [],
   "source": [
    "import os\n",
    "import pandas as pd\n",
    "import numpy as np"
   ]
  },
  {
   "cell_type": "code",
   "execution_count": 2,
   "metadata": {},
   "outputs": [],
   "source": [
    "path = os.getcwd()[:os.getcwd().find('models')]\n",
    "data = pd.read_json(path + 'cetano.json')"
   ]
  },
  {
   "cell_type": "code",
   "execution_count": 3,
   "metadata": {},
   "outputs": [],
   "source": [
    "X = data[['C8:0', 'C10:0', 'C12:0', 'C14:0', 'C16:0','C18:0', 'C18:1', 'C18:2', 'C18:3', 'C18:1 OH', 'C20:0', 'C20:1', 'C22:1', 'Outros']]\n",
    "Y = data['NC']"
   ]
  },
  {
   "cell_type": "code",
   "execution_count": 4,
   "metadata": {},
   "outputs": [],
   "source": [
    "from sklearn.model_selection import train_test_split\n",
    "from sklearn import metrics"
   ]
  },
  {
   "cell_type": "code",
   "execution_count": 5,
   "metadata": {},
   "outputs": [],
   "source": [
    "def metrics_calc (Y_test, predict):\n",
    "    print('R²  : ', metrics.r2_score(Y_test, predict))\n",
    "    print('MAE : ', metrics.mean_absolute_error(Y_test, predict))\n",
    "    print('MSE : ', metrics.mean_squared_error(Y_test, predict))\n",
    "    print('RMSE: ', np.sqrt(metrics.mean_squared_error(Y_test, predict)))"
   ]
  },
  {
   "cell_type": "markdown",
   "metadata": {},
   "source": [
    "## Partial least squares regression (PLS regression) "
   ]
  },
  {
   "cell_type": "code",
   "execution_count": 6,
   "metadata": {},
   "outputs": [],
   "source": [
    "from sklearn.cross_decomposition import PLSRegression"
   ]
  },
  {
   "cell_type": "code",
   "execution_count": 7,
   "metadata": {},
   "outputs": [],
   "source": [
    "def regression_pls (X=X, Y=Y):\n",
    "    X_train, X_test, Y_train, Y_test = train_test_split(X, Y, test_size=0.4, random_state=1589078)\n",
    "    PLS = PLSRegression(n_components=2)\n",
    "    PLS.fit(X_train, Y_train)\n",
    "    PLS_predict = PLS.predict(X_test)\n",
    "    return Y_test, PLS_predict"
   ]
  },
  {
   "cell_type": "code",
   "execution_count": 8,
   "metadata": {},
   "outputs": [
    {
     "name": "stdout",
     "output_type": "stream",
     "text": [
      "R²  :  0.9093817901048125\n",
      "MAE :  1.6753973635756267\n",
      "MSE :  4.452903862783862\n",
      "RMSE:  2.110190480213543\n"
     ]
    }
   ],
   "source": [
    "Y_test, PLS_predict = regression_pls()\n",
    "metrics_calc(Y_test, PLS_predict)"
   ]
  },
  {
   "cell_type": "markdown",
   "metadata": {},
   "source": [
    "## Multiple Linear Regression - MLR"
   ]
  },
  {
   "cell_type": "code",
   "execution_count": 9,
   "metadata": {},
   "outputs": [],
   "source": [
    "from sklearn.linear_model import LinearRegression"
   ]
  },
  {
   "cell_type": "code",
   "execution_count": 10,
   "metadata": {},
   "outputs": [],
   "source": [
    "def regression_mlr (X=X, Y=Y):\n",
    "    X_train, X_test, Y_train, Y_test = train_test_split(X, Y, test_size=0.4, random_state=233080)\n",
    "    MLR = LinearRegression()\n",
    "    MLR.fit(X_train, Y_train)\n",
    "    MLR_predict = MLR.predict(X_test)\n",
    "    return Y_test, MLR_predict"
   ]
  },
  {
   "cell_type": "code",
   "execution_count": 11,
   "metadata": {},
   "outputs": [
    {
     "name": "stdout",
     "output_type": "stream",
     "text": [
      "R²  :  0.9255587216451225\n",
      "MAE :  1.4687305582257848\n",
      "MSE :  3.6607940537894597\n",
      "RMSE:  1.9133201649983882\n"
     ]
    }
   ],
   "source": [
    "Y_test, MLR_predict = regression_mlr()\n",
    "metrics_calc(Y_test, MLR_predict)"
   ]
  },
  {
   "cell_type": "markdown",
   "metadata": {},
   "source": [
    "## Support Vector Regression - SVR"
   ]
  },
  {
   "cell_type": "code",
   "execution_count": 12,
   "metadata": {},
   "outputs": [],
   "source": [
    "from sklearn.svm import LinearSVR"
   ]
  },
  {
   "cell_type": "code",
   "execution_count": 13,
   "metadata": {},
   "outputs": [],
   "source": [
    "def regression_svr (X=X, Y=Y, random_state=0):\n",
    "    X_train, X_test, Y_train, Y_test = train_test_split(X, Y, test_size=0.4, random_state=1384793)\n",
    "    SVR = LinearSVR(random_state=52920)\n",
    "    SVR.fit(X_train,Y_train)\n",
    "    SVR_predict = SVR.predict(X_test)\n",
    "    return Y_test, SVR_predict"
   ]
  },
  {
   "cell_type": "code",
   "execution_count": 14,
   "metadata": {},
   "outputs": [
    {
     "name": "stdout",
     "output_type": "stream",
     "text": [
      "R²  :  0.9319760975115492\n",
      "MAE :  1.6778447282417162\n",
      "MSE :  4.629905998135533\n",
      "RMSE:  2.151721635838505\n"
     ]
    }
   ],
   "source": [
    "Y_test, SVR_predict = regression_svr(random_state=1)\n",
    "metrics_calc(Y_test, SVR_predict)"
   ]
  },
  {
   "cell_type": "markdown",
   "metadata": {},
   "source": [
    "## Exportando resultados"
   ]
  },
  {
   "cell_type": "code",
   "execution_count": 15,
   "metadata": {},
   "outputs": [],
   "source": [
    "PLS_data = pd.DataFrame(PLS_predict)\n",
    "PLS_data.to_excel('PLS_predict.xlsx')\n",
    "MLR_data = pd.DataFrame(MLR_predict)\n",
    "MLR_data.to_excel('MLR_predict.xlsx')\n",
    "SVR_data = pd.DataFrame(SVR_predict)\n",
    "SVR_data.to_excel('SVR_predict.xlsx')"
   ]
  }
 ],
 "metadata": {
  "kernelspec": {
   "display_name": "Python 3",
   "language": "python",
   "name": "python3"
  },
  "language_info": {
   "codemirror_mode": {
    "name": "ipython",
    "version": 3
   },
   "file_extension": ".py",
   "mimetype": "text/x-python",
   "name": "python",
   "nbconvert_exporter": "python",
   "pygments_lexer": "ipython3",
   "version": "3.6.7"
  }
 },
 "nbformat": 4,
 "nbformat_minor": 2
}
